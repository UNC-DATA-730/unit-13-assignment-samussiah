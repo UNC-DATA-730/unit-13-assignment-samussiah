{
 "cells": [
  {
   "cell_type": "markdown",
   "id": "df0d234f-1e1a-4495-8208-e177e7f527aa",
   "metadata": {},
   "source": [
    "Complete the exercises below For **Assignment #13**."
   ]
  },
  {
   "cell_type": "markdown",
   "id": "99d3796a-5167-4b91-b01b-d07279d2c0ce",
   "metadata": {},
   "source": [
    "Load the `ISLR2` and the `tidymodels` packages."
   ]
  },
  {
   "cell_type": "code",
   "execution_count": 51,
   "id": "0ddb641e-0631-4834-ab73-22505fd2631a",
   "metadata": {
    "vscode": {
     "languageId": "r"
    }
   },
   "outputs": [],
   "source": [
    "library(tidymodels) |> suppressPackageStartupMessages()\n",
    "library(ISLR2) |> suppressPackageStartupMessages()"
   ]
  },
  {
   "cell_type": "markdown",
   "id": "8faea7c9-123f-4664-bb30-7e4c3c864255",
   "metadata": {},
   "source": [
    "In this assignment we will use the `Default` dataset which includes the default status for credit card customers (`default` variable) in addition to each customer's:\n",
    "\n",
    "1. credit card balance (`balance` variable),\n",
    "1. student status (`student` variable), and,\n",
    "1. income (`income` variable)."
   ]
  },
  {
   "cell_type": "code",
   "execution_count": 52,
   "id": "0b0c3ba0-d37c-42bc-a46d-cbc614d72484",
   "metadata": {
    "vscode": {
     "languageId": "r"
    }
   },
   "outputs": [
    {
     "data": {
      "text/html": [
       "<table class=\"dataframe\">\n",
       "<caption>A data.frame: 6 × 4</caption>\n",
       "<thead>\n",
       "\t<tr><th></th><th scope=col>default</th><th scope=col>student</th><th scope=col>balance</th><th scope=col>income</th></tr>\n",
       "\t<tr><th></th><th scope=col>&lt;fct&gt;</th><th scope=col>&lt;fct&gt;</th><th scope=col>&lt;dbl&gt;</th><th scope=col>&lt;dbl&gt;</th></tr>\n",
       "</thead>\n",
       "<tbody>\n",
       "\t<tr><th scope=row>1</th><td>No</td><td>No </td><td> 729.5265</td><td>44361.625</td></tr>\n",
       "\t<tr><th scope=row>2</th><td>No</td><td>Yes</td><td> 817.1804</td><td>12106.135</td></tr>\n",
       "\t<tr><th scope=row>3</th><td>No</td><td>No </td><td>1073.5492</td><td>31767.139</td></tr>\n",
       "\t<tr><th scope=row>4</th><td>No</td><td>No </td><td> 529.2506</td><td>35704.494</td></tr>\n",
       "\t<tr><th scope=row>5</th><td>No</td><td>No </td><td> 785.6559</td><td>38463.496</td></tr>\n",
       "\t<tr><th scope=row>6</th><td>No</td><td>Yes</td><td> 919.5885</td><td> 7491.559</td></tr>\n",
       "</tbody>\n",
       "</table>\n"
      ],
      "text/latex": [
       "A data.frame: 6 × 4\n",
       "\\begin{tabular}{r|llll}\n",
       "  & default & student & balance & income\\\\\n",
       "  & <fct> & <fct> & <dbl> & <dbl>\\\\\n",
       "\\hline\n",
       "\t1 & No & No  &  729.5265 & 44361.625\\\\\n",
       "\t2 & No & Yes &  817.1804 & 12106.135\\\\\n",
       "\t3 & No & No  & 1073.5492 & 31767.139\\\\\n",
       "\t4 & No & No  &  529.2506 & 35704.494\\\\\n",
       "\t5 & No & No  &  785.6559 & 38463.496\\\\\n",
       "\t6 & No & Yes &  919.5885 &  7491.559\\\\\n",
       "\\end{tabular}\n"
      ],
      "text/markdown": [
       "\n",
       "A data.frame: 6 × 4\n",
       "\n",
       "| <!--/--> | default &lt;fct&gt; | student &lt;fct&gt; | balance &lt;dbl&gt; | income &lt;dbl&gt; |\n",
       "|---|---|---|---|---|\n",
       "| 1 | No | No  |  729.5265 | 44361.625 |\n",
       "| 2 | No | Yes |  817.1804 | 12106.135 |\n",
       "| 3 | No | No  | 1073.5492 | 31767.139 |\n",
       "| 4 | No | No  |  529.2506 | 35704.494 |\n",
       "| 5 | No | No  |  785.6559 | 38463.496 |\n",
       "| 6 | No | Yes |  919.5885 |  7491.559 |\n",
       "\n"
      ],
      "text/plain": [
       "  default student balance   income   \n",
       "1 No      No       729.5265 44361.625\n",
       "2 No      Yes      817.1804 12106.135\n",
       "3 No      No      1073.5492 31767.139\n",
       "4 No      No       529.2506 35704.494\n",
       "5 No      No       785.6559 38463.496\n",
       "6 No      Yes      919.5885  7491.559"
      ]
     },
     "metadata": {},
     "output_type": "display_data"
    }
   ],
   "source": [
    "Default |> head()"
   ]
  },
  {
   "cell_type": "markdown",
   "id": "d77d04d6-6882-44c3-8658-7fec6c73ac4e",
   "metadata": {},
   "source": [
    "We will be modeling `default` with the customer features.\n",
    "\n",
    "Before we begin let's count how many customers fall into each `default` category."
   ]
  },
  {
   "cell_type": "code",
   "execution_count": 53,
   "id": "45716b9b-22d9-4731-b8fe-c4f1fdb5e66f",
   "metadata": {
    "vscode": {
     "languageId": "r"
    }
   },
   "outputs": [
    {
     "data": {
      "text/html": [
       "<table class=\"dataframe\">\n",
       "<caption>A data.frame: 2 × 2</caption>\n",
       "<thead>\n",
       "\t<tr><th scope=col>default</th><th scope=col>n</th></tr>\n",
       "\t<tr><th scope=col>&lt;fct&gt;</th><th scope=col>&lt;int&gt;</th></tr>\n",
       "</thead>\n",
       "<tbody>\n",
       "\t<tr><td>No </td><td>9667</td></tr>\n",
       "\t<tr><td>Yes</td><td> 333</td></tr>\n",
       "</tbody>\n",
       "</table>\n"
      ],
      "text/latex": [
       "A data.frame: 2 × 2\n",
       "\\begin{tabular}{ll}\n",
       " default & n\\\\\n",
       " <fct> & <int>\\\\\n",
       "\\hline\n",
       "\t No  & 9667\\\\\n",
       "\t Yes &  333\\\\\n",
       "\\end{tabular}\n"
      ],
      "text/markdown": [
       "\n",
       "A data.frame: 2 × 2\n",
       "\n",
       "| default &lt;fct&gt; | n &lt;int&gt; |\n",
       "|---|---|\n",
       "| No  | 9667 |\n",
       "| Yes |  333 |\n",
       "\n"
      ],
      "text/plain": [
       "  default n   \n",
       "1 No      9667\n",
       "2 Yes      333"
      ]
     },
     "metadata": {},
     "output_type": "display_data"
    }
   ],
   "source": [
    "Default |> count(default)"
   ]
  },
  {
   "cell_type": "markdown",
   "id": "386b40ff-ab7e-4c72-baff-3cd3e2f78157",
   "metadata": {},
   "source": [
    "The data is quite imbalanced. This will be important to keep in mind when we evaluate the performance of our model later. "
   ]
  },
  {
   "cell_type": "markdown",
   "id": "f84af2a1-24e6-43d8-8e22-0a93ca3a01d4",
   "metadata": {},
   "source": [
    "Run the code below to create and training data from `Default`. We will use the \"test\" dataset at the end to get a final evaluation of our best model's accuracy."
   ]
  },
  {
   "cell_type": "code",
   "execution_count": 54,
   "id": "1d725ca5-77de-4025-8ce5-f8e0fef30992",
   "metadata": {
    "vscode": {
     "languageId": "r"
    }
   },
   "outputs": [],
   "source": [
    "set.seed(1234)\n",
    "Default_split = Default |>\n",
    "    initial_split(\n",
    "        prop = 0.90,\n",
    "        strata = default\n",
    "    )\n",
    "\n",
    "Default_train = training(Default_split)\n",
    "Default_test = testing(Default_split)"
   ]
  },
  {
   "cell_type": "markdown",
   "id": "911248f2-2aff-41ce-a124-b455a49f3062",
   "metadata": {},
   "source": [
    "Create a logistic regression model called `mod`. Set the engine to `glm` and the mode to `classification`. "
   ]
  },
  {
   "cell_type": "code",
   "execution_count": 55,
   "id": "b46b8b34-9849-4db2-91a3-027869b944a9",
   "metadata": {
    "vscode": {
     "languageId": "r"
    }
   },
   "outputs": [],
   "source": [
    "mod <- logistic_reg() |>\n",
    "    set_engine(\"glm\") |>\n",
    "    set_mode(\"classification\")"
   ]
  },
  {
   "cell_type": "markdown",
   "id": "5c8a45b3-fba6-404e-940c-9b0a50485bab",
   "metadata": {},
   "source": [
    "Our data is imbalanced. As such, a naive model that *always* predicts a customer to **not default** would be correct quite often. Let's start by calculating the \"accuracy\" of a naive model. This will be the baseline accuracy by which we evaluate other models."
   ]
  },
  {
   "cell_type": "code",
   "execution_count": 56,
   "id": "2131ba72-af1e-46ac-b62e-fa694d36b7aa",
   "metadata": {
    "vscode": {
     "languageId": "r"
    }
   },
   "outputs": [
    {
     "data": {
      "text/html": [
       "<table class=\"dataframe\">\n",
       "<caption>A tibble: 1 × 3</caption>\n",
       "<thead>\n",
       "\t<tr><th scope=col>.metric</th><th scope=col>.estimator</th><th scope=col>.estimate</th></tr>\n",
       "\t<tr><th scope=col>&lt;chr&gt;</th><th scope=col>&lt;chr&gt;</th><th scope=col>&lt;dbl&gt;</th></tr>\n",
       "</thead>\n",
       "<tbody>\n",
       "\t<tr><td>accuracy</td><td>binary</td><td>0.9665556</td></tr>\n",
       "</tbody>\n",
       "</table>\n"
      ],
      "text/latex": [
       "A tibble: 1 × 3\n",
       "\\begin{tabular}{lll}\n",
       " .metric & .estimator & .estimate\\\\\n",
       " <chr> & <chr> & <dbl>\\\\\n",
       "\\hline\n",
       "\t accuracy & binary & 0.9665556\\\\\n",
       "\\end{tabular}\n"
      ],
      "text/markdown": [
       "\n",
       "A tibble: 1 × 3\n",
       "\n",
       "| .metric &lt;chr&gt; | .estimator &lt;chr&gt; | .estimate &lt;dbl&gt; |\n",
       "|---|---|---|\n",
       "| accuracy | binary | 0.9665556 |\n",
       "\n"
      ],
      "text/plain": [
       "  .metric  .estimator .estimate\n",
       "1 accuracy binary     0.9665556"
      ]
     },
     "metadata": {},
     "output_type": "display_data"
    }
   ],
   "source": [
    "# This code calculates the accuracy of a model that always predicts default to be \"No\"\n",
    "Default_train |>\n",
    "    mutate(\n",
    "        .pred_naive = factor(\n",
    "            'No',\n",
    "            levels = c('No', 'Yes')\n",
    "        )\n",
    "    ) |>\n",
    "    accuracy(\n",
    "        truth = default,\n",
    "        .pred_naive\n",
    "    )"
   ]
  },
  {
   "cell_type": "markdown",
   "id": "ca30f2d1-9784-4142-a7bd-5ddcb14de08b",
   "metadata": {},
   "source": [
    "Let's use k-fold cross validation to evaluate the performance of a model where the outcome is `default` and the predictors are `income` and `balance`."
   ]
  },
  {
   "cell_type": "markdown",
   "id": "b5b639ce-a03c-48af-84d4-8f9e4d6d7ee4",
   "metadata": {},
   "source": [
    "To start, use `vfold_cv` to generate 10 validation folds (i.e. set the `v` variable to 10). Set the `strata` argument to `default` so we preserve the distribution of `default` values in each fold.\n",
    "\n",
    "Create your folds below and use `glimpse` to look at the output table. Call your output folds tables \"folds\"."
   ]
  },
  {
   "cell_type": "code",
   "execution_count": 57,
   "id": "2a53ed42-03d9-4840-a702-d8f44f74e773",
   "metadata": {
    "vscode": {
     "languageId": "r"
    }
   },
   "outputs": [
    {
     "name": "stdout",
     "output_type": "stream",
     "text": [
      "Rows: 10\n",
      "Columns: 2\n",
      "$ splits \u001b[3m\u001b[90m<list>\u001b[39m\u001b[23m [<vfold_split[8100 x 900 x 9000 x 4]>]\u001b[90m, \u001b[39m[<vfold_split[8100 x 9…\n",
      "$ id     \u001b[3m\u001b[90m<chr>\u001b[39m\u001b[23m \"Fold01\"\u001b[90m, \u001b[39m\"Fold02\"\u001b[90m, \u001b[39m\"Fold03\"\u001b[90m, \u001b[39m\"Fold04\"\u001b[90m, \u001b[39m\"Fold05\"\u001b[90m, \u001b[39m\"Fold06\"\u001b[90m, \u001b[39m\"Fo…\n"
     ]
    }
   ],
   "source": [
    "set.seed(1234)\n",
    "folds <- Default_train |>\n",
    "    vfold_cv(\n",
    "        v = 10,\n",
    "        strata = default\n",
    "    )\n",
    "\n",
    "glimpse(folds)"
   ]
  },
  {
   "cell_type": "markdown",
   "id": "4bccb76b-ba91-48d6-95ec-88c679d91f2d",
   "metadata": {},
   "source": [
    "The code below fits a model to each of your 10 folds. `collect_metrics` finds the average of evaluation metrics for each of your ten models. "
   ]
  },
  {
   "cell_type": "code",
   "execution_count": 58,
   "id": "4b743466-c50b-491c-b476-0553cafa043d",
   "metadata": {
    "vscode": {
     "languageId": "r"
    }
   },
   "outputs": [
    {
     "data": {
      "text/html": [
       "<table class=\"dataframe\">\n",
       "<caption>A tibble: 3 × 6</caption>\n",
       "<thead>\n",
       "\t<tr><th scope=col>.metric</th><th scope=col>.estimator</th><th scope=col>mean</th><th scope=col>n</th><th scope=col>std_err</th><th scope=col>.config</th></tr>\n",
       "\t<tr><th scope=col>&lt;chr&gt;</th><th scope=col>&lt;chr&gt;</th><th scope=col>&lt;dbl&gt;</th><th scope=col>&lt;int&gt;</th><th scope=col>&lt;dbl&gt;</th><th scope=col>&lt;chr&gt;</th></tr>\n",
       "</thead>\n",
       "<tbody>\n",
       "\t<tr><td>accuracy   </td><td>binary</td><td>0.97400000</td><td>10</td><td>0.001464720</td><td>Preprocessor1_Model1</td></tr>\n",
       "\t<tr><td>brier_class</td><td>binary</td><td>0.02129948</td><td>10</td><td>0.001051008</td><td>Preprocessor1_Model1</td></tr>\n",
       "\t<tr><td>roc_auc    </td><td>binary</td><td>0.94979424</td><td>10</td><td>0.007368964</td><td>Preprocessor1_Model1</td></tr>\n",
       "</tbody>\n",
       "</table>\n"
      ],
      "text/latex": [
       "A tibble: 3 × 6\n",
       "\\begin{tabular}{llllll}\n",
       " .metric & .estimator & mean & n & std\\_err & .config\\\\\n",
       " <chr> & <chr> & <dbl> & <int> & <dbl> & <chr>\\\\\n",
       "\\hline\n",
       "\t accuracy    & binary & 0.97400000 & 10 & 0.001464720 & Preprocessor1\\_Model1\\\\\n",
       "\t brier\\_class & binary & 0.02129948 & 10 & 0.001051008 & Preprocessor1\\_Model1\\\\\n",
       "\t roc\\_auc     & binary & 0.94979424 & 10 & 0.007368964 & Preprocessor1\\_Model1\\\\\n",
       "\\end{tabular}\n"
      ],
      "text/markdown": [
       "\n",
       "A tibble: 3 × 6\n",
       "\n",
       "| .metric &lt;chr&gt; | .estimator &lt;chr&gt; | mean &lt;dbl&gt; | n &lt;int&gt; | std_err &lt;dbl&gt; | .config &lt;chr&gt; |\n",
       "|---|---|---|---|---|---|\n",
       "| accuracy    | binary | 0.97400000 | 10 | 0.001464720 | Preprocessor1_Model1 |\n",
       "| brier_class | binary | 0.02129948 | 10 | 0.001051008 | Preprocessor1_Model1 |\n",
       "| roc_auc     | binary | 0.94979424 | 10 | 0.007368964 | Preprocessor1_Model1 |\n",
       "\n"
      ],
      "text/plain": [
       "  .metric     .estimator mean       n  std_err     .config             \n",
       "1 accuracy    binary     0.97400000 10 0.001464720 Preprocessor1_Model1\n",
       "2 brier_class binary     0.02129948 10 0.001051008 Preprocessor1_Model1\n",
       "3 roc_auc     binary     0.94979424 10 0.007368964 Preprocessor1_Model1"
      ]
     },
     "metadata": {},
     "output_type": "display_data"
    }
   ],
   "source": [
    "mod |>\n",
    "    fit_resamples(\n",
    "        default ~ income + balance,\n",
    "        folds\n",
    "    ) |>\n",
    "    collect_metrics()"
   ]
  },
  {
   "cell_type": "markdown",
   "id": "1f4e0354-98cc-4187-9b8b-34ec5dd54516",
   "metadata": {},
   "source": [
    "❓How does the model accuracy compare to the naive model from above?"
   ]
  },
  {
   "cell_type": "markdown",
   "id": "99134b8d-eee8-4f47-898a-f0ccb24ae05e",
   "metadata": {
    "vscode": {
     "languageId": "r"
    }
   },
   "source": [
    "The model accuracy is marginally more accurate than the naive model, but not meaningfully so."
   ]
  },
  {
   "cell_type": "markdown",
   "id": "fa0d203f-62cd-4543-9018-9f7ba0380320",
   "metadata": {},
   "source": [
    "Complete the cell below to evaluate a model also includes the `student` variable as as predictor.\n",
    "1. use `default ~ income + balance + student` as the formula,\n",
    "2. encode your `student` variable with `step_dummy`, and,\n",
    "3. don't forget to `prep` your recipe!"
   ]
  },
  {
   "cell_type": "code",
   "execution_count": 59,
   "id": "1c1db5b5-445e-4912-aeaa-5073ea17003f",
   "metadata": {
    "vscode": {
     "languageId": "r"
    }
   },
   "outputs": [
    {
     "data": {
      "text/html": [
       "<table class=\"dataframe\">\n",
       "<caption>A tibble: 6 × 4</caption>\n",
       "<thead>\n",
       "\t<tr><th scope=col>balance</th><th scope=col>income</th><th scope=col>default</th><th scope=col>student_Yes</th></tr>\n",
       "\t<tr><th scope=col>&lt;dbl&gt;</th><th scope=col>&lt;dbl&gt;</th><th scope=col>&lt;fct&gt;</th><th scope=col>&lt;dbl&gt;</th></tr>\n",
       "</thead>\n",
       "<tbody>\n",
       "\t<tr><td> 729.5265</td><td>44361.625</td><td>No</td><td>0</td></tr>\n",
       "\t<tr><td> 785.6559</td><td>38463.496</td><td>No</td><td>0</td></tr>\n",
       "\t<tr><td> 919.5885</td><td> 7491.559</td><td>No</td><td>1</td></tr>\n",
       "\t<tr><td>1161.0579</td><td>37468.529</td><td>No</td><td>0</td></tr>\n",
       "\t<tr><td>   0.0000</td><td>29275.268</td><td>No</td><td>0</td></tr>\n",
       "\t<tr><td>   0.0000</td><td>21871.073</td><td>No</td><td>1</td></tr>\n",
       "</tbody>\n",
       "</table>\n"
      ],
      "text/latex": [
       "A tibble: 6 × 4\n",
       "\\begin{tabular}{llll}\n",
       " balance & income & default & student\\_Yes\\\\\n",
       " <dbl> & <dbl> & <fct> & <dbl>\\\\\n",
       "\\hline\n",
       "\t  729.5265 & 44361.625 & No & 0\\\\\n",
       "\t  785.6559 & 38463.496 & No & 0\\\\\n",
       "\t  919.5885 &  7491.559 & No & 1\\\\\n",
       "\t 1161.0579 & 37468.529 & No & 0\\\\\n",
       "\t    0.0000 & 29275.268 & No & 0\\\\\n",
       "\t    0.0000 & 21871.073 & No & 1\\\\\n",
       "\\end{tabular}\n"
      ],
      "text/markdown": [
       "\n",
       "A tibble: 6 × 4\n",
       "\n",
       "| balance &lt;dbl&gt; | income &lt;dbl&gt; | default &lt;fct&gt; | student_Yes &lt;dbl&gt; |\n",
       "|---|---|---|---|\n",
       "|  729.5265 | 44361.625 | No | 0 |\n",
       "|  785.6559 | 38463.496 | No | 0 |\n",
       "|  919.5885 |  7491.559 | No | 1 |\n",
       "| 1161.0579 | 37468.529 | No | 0 |\n",
       "|    0.0000 | 29275.268 | No | 0 |\n",
       "|    0.0000 | 21871.073 | No | 1 |\n",
       "\n"
      ],
      "text/plain": [
       "  balance   income    default student_Yes\n",
       "1  729.5265 44361.625 No      0          \n",
       "2  785.6559 38463.496 No      0          \n",
       "3  919.5885  7491.559 No      1          \n",
       "4 1161.0579 37468.529 No      0          \n",
       "5    0.0000 29275.268 No      0          \n",
       "6    0.0000 21871.073 No      1          "
      ]
     },
     "metadata": {},
     "output_type": "display_data"
    },
    {
     "data": {
      "text/html": [
       "<table class=\"dataframe\">\n",
       "<caption>A tibble: 3 × 6</caption>\n",
       "<thead>\n",
       "\t<tr><th scope=col>.metric</th><th scope=col>.estimator</th><th scope=col>mean</th><th scope=col>n</th><th scope=col>std_err</th><th scope=col>.config</th></tr>\n",
       "\t<tr><th scope=col>&lt;chr&gt;</th><th scope=col>&lt;chr&gt;</th><th scope=col>&lt;dbl&gt;</th><th scope=col>&lt;int&gt;</th><th scope=col>&lt;dbl&gt;</th><th scope=col>&lt;chr&gt;</th></tr>\n",
       "</thead>\n",
       "<tbody>\n",
       "\t<tr><td>accuracy   </td><td>binary</td><td>0.97355556</td><td>10</td><td>0.001470328</td><td>Preprocessor1_Model1</td></tr>\n",
       "\t<tr><td>brier_class</td><td>binary</td><td>0.02125681</td><td>10</td><td>0.001061736</td><td>Preprocessor1_Model1</td></tr>\n",
       "\t<tr><td>roc_auc    </td><td>binary</td><td>0.94994760</td><td>10</td><td>0.007579688</td><td>Preprocessor1_Model1</td></tr>\n",
       "</tbody>\n",
       "</table>\n"
      ],
      "text/latex": [
       "A tibble: 3 × 6\n",
       "\\begin{tabular}{llllll}\n",
       " .metric & .estimator & mean & n & std\\_err & .config\\\\\n",
       " <chr> & <chr> & <dbl> & <int> & <dbl> & <chr>\\\\\n",
       "\\hline\n",
       "\t accuracy    & binary & 0.97355556 & 10 & 0.001470328 & Preprocessor1\\_Model1\\\\\n",
       "\t brier\\_class & binary & 0.02125681 & 10 & 0.001061736 & Preprocessor1\\_Model1\\\\\n",
       "\t roc\\_auc     & binary & 0.94994760 & 10 & 0.007579688 & Preprocessor1\\_Model1\\\\\n",
       "\\end{tabular}\n"
      ],
      "text/markdown": [
       "\n",
       "A tibble: 3 × 6\n",
       "\n",
       "| .metric &lt;chr&gt; | .estimator &lt;chr&gt; | mean &lt;dbl&gt; | n &lt;int&gt; | std_err &lt;dbl&gt; | .config &lt;chr&gt; |\n",
       "|---|---|---|---|---|---|\n",
       "| accuracy    | binary | 0.97355556 | 10 | 0.001470328 | Preprocessor1_Model1 |\n",
       "| brier_class | binary | 0.02125681 | 10 | 0.001061736 | Preprocessor1_Model1 |\n",
       "| roc_auc     | binary | 0.94994760 | 10 | 0.007579688 | Preprocessor1_Model1 |\n",
       "\n"
      ],
      "text/plain": [
       "  .metric     .estimator mean       n  std_err     .config             \n",
       "1 accuracy    binary     0.97355556 10 0.001470328 Preprocessor1_Model1\n",
       "2 brier_class binary     0.02125681 10 0.001061736 Preprocessor1_Model1\n",
       "3 roc_auc     binary     0.94994760 10 0.007579688 Preprocessor1_Model1"
      ]
     },
     "metadata": {},
     "output_type": "display_data"
    }
   ],
   "source": [
    "rec = Default_train |>\n",
    "    recipe(\n",
    "        default ~ .\n",
    "    ) |>\n",
    "    step_dummy(student)\n",
    "\n",
    "rec |>\n",
    "    prep() |>\n",
    "    juice() |>\n",
    "    head()\n",
    "\n",
    "mod |>\n",
    "    fit_resamples(rec, folds) |>\n",
    "    collect_metrics()"
   ]
  },
  {
   "cell_type": "markdown",
   "id": "5f06b110-6161-40af-816b-866097d83aad",
   "metadata": {},
   "source": [
    "❓Does it appear that the model that includes `student` improves upon the first model with only `income` and `balance` as predictors?"
   ]
  },
  {
   "cell_type": "markdown",
   "id": "c32541be-f434-4517-bcd6-d125c5c3318d",
   "metadata": {},
   "source": [
    "No, the inclusion of `student` in the model does not appear to improve its accuracy."
   ]
  },
  {
   "cell_type": "markdown",
   "id": "7e15fcb1-cb13-4285-a264-6531c8a1ed17",
   "metadata": {},
   "source": [
    "Finally, estimate the accuracy of an `default ~ income + balance` model on the test data, `Default_test`. "
   ]
  },
  {
   "cell_type": "code",
   "execution_count": 60,
   "id": "12a41099-6a0e-4858-8cd2-fea3f1d2398d",
   "metadata": {
    "vscode": {
     "languageId": "r"
    }
   },
   "outputs": [
    {
     "data": {
      "text/plain": [
       ".pred_class\n",
       " No Yes \n",
       "989  11 "
      ]
     },
     "metadata": {},
     "output_type": "display_data"
    },
    {
     "data": {
      "text/html": [
       "<table class=\"dataframe\">\n",
       "<caption>A tibble: 1 × 3</caption>\n",
       "<thead>\n",
       "\t<tr><th scope=col>.metric</th><th scope=col>.estimator</th><th scope=col>.estimate</th></tr>\n",
       "\t<tr><th scope=col>&lt;chr&gt;</th><th scope=col>&lt;chr&gt;</th><th scope=col>&lt;dbl&gt;</th></tr>\n",
       "</thead>\n",
       "<tbody>\n",
       "\t<tr><td>accuracy</td><td>binary</td><td>0.971</td></tr>\n",
       "</tbody>\n",
       "</table>\n"
      ],
      "text/latex": [
       "A tibble: 1 × 3\n",
       "\\begin{tabular}{lll}\n",
       " .metric & .estimator & .estimate\\\\\n",
       " <chr> & <chr> & <dbl>\\\\\n",
       "\\hline\n",
       "\t accuracy & binary & 0.971\\\\\n",
       "\\end{tabular}\n"
      ],
      "text/markdown": [
       "\n",
       "A tibble: 1 × 3\n",
       "\n",
       "| .metric &lt;chr&gt; | .estimator &lt;chr&gt; | .estimate &lt;dbl&gt; |\n",
       "|---|---|---|\n",
       "| accuracy | binary | 0.971 |\n",
       "\n"
      ],
      "text/plain": [
       "  .metric  .estimator .estimate\n",
       "1 accuracy binary     0.971    "
      ]
     },
     "metadata": {},
     "output_type": "display_data"
    }
   ],
   "source": [
    "test_data_predictions <- mod |>\n",
    "    fit(\n",
    "        default ~ income + balance,\n",
    "        data = Default_train\n",
    "    ) |>\n",
    "    predict(\n",
    "        new_data = Default_test\n",
    "    )\n",
    "\n",
    "table(test_data_predictions)\n",
    "\n",
    "Default_test |>\n",
    "    bind_cols(\n",
    "        test_data_predictions\n",
    "    ) |>\n",
    "    accuracy(\n",
    "        truth = default,\n",
    "        estimate = .pred_class\n",
    "    )"
   ]
  },
  {
   "cell_type": "markdown",
   "id": "45d8fe1d-4428-4a49-b47d-5c502bb3b9d9",
   "metadata": {
    "vscode": {
     "languageId": "r"
    }
   },
   "source": [
    "❓Does our model outperform a naive model?"
   ]
  },
  {
   "cell_type": "markdown",
   "id": "3279d832",
   "metadata": {},
   "source": [
    "Our model marginally outperforms the naive model (~97.1% vs ~96.6%), which would potentially identify ~1/3 of the defaulting customers in the original data."
   ]
  }
 ],
 "metadata": {
  "kernelspec": {
   "display_name": "R",
   "language": "R",
   "name": "ir"
  },
  "language_info": {
   "codemirror_mode": "r",
   "file_extension": ".r",
   "mimetype": "text/x-r-source",
   "name": "R",
   "pygments_lexer": "r",
   "version": "4.5.0"
  }
 },
 "nbformat": 4,
 "nbformat_minor": 5
}
